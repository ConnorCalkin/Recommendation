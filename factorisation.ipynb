{
 "cells": [
  {
   "cell_type": "markdown",
   "id": "eb028b17-d713-42b8-b53f-bad53ee3bee7",
   "metadata": {},
   "source": [
    "**Matrix Factorisation**\n",
    "\n",
    "Matrix factorisation is an algorithm for collaborative filtering. The idea behind this algorithm is to take in a matrix of size nxm. Each row describes a user and each column describes the item being recommended. The value in the matrix describes the rating that the user has given to the piece of media.\n",
    "\n",
    "In order to make predictions on what rating users might give to users, we factorise the matrix into smaller matrices. One way to do this is to conduct singular value decomposition, turing a matrix R into USV_T. However, in this notebook, I am going to use stochastic gradient descent to create two matrices (P and Q). P is a user matrix that is size nxf and Q is an item matrix that is size fxm.\n",
    "\n",
    "This is helpful for two reasons. Firstly, the size of P and Q will be significantly smaller that the original matrix R. Secondly, we can get the predicted ratings from the values if the matrix P * Q (You won't need to multiply the whole matrix, just the columns for the user and item from P and Q).\n",
    "\n",
    "The following notebook creates a mock matrix R and creates predictions for each person's rating using the previous method."
   ]
  },
  {
   "cell_type": "code",
   "execution_count": 1,
   "id": "3234a349-15fe-4f75-a1e2-243a1108b5e2",
   "metadata": {},
   "outputs": [],
   "source": [
    "import matplotlib.pyplot as plt\n",
    "import numpy as np"
   ]
  },
  {
   "cell_type": "code",
   "execution_count": 2,
   "id": "f8f320f0-262c-4849-a4a0-e8d409cf78a4",
   "metadata": {},
   "outputs": [],
   "source": [
    "#Create Review Matrix\n",
    "\n",
    "R = np.array([[0, 4.5, 2, 0],\n",
    "             [4, 0, 3.5, 0],\n",
    "             [0, 5, 0, 2],\n",
    "             [0, 3.5, 4, 1]])"
   ]
  },
  {
   "cell_type": "code",
   "execution_count": 3,
   "id": "8d939b4b-3b92-41e6-a834-264504331c6a",
   "metadata": {},
   "outputs": [],
   "source": [
    "#Helper functions for later\n",
    "\n",
    "#Given a P and a Q, we can get the predicted recommendation fror user u and item i\n",
    "def get_pred(u, i):\n",
    "    return np.matmul((P[u, :]), (Q[:, i]))\n",
    "\n",
    "#calculate the error between the prediction and reality\n",
    "def get_error(u, i):\n",
    "    return R[u,i] - get_pred(u,i)\n",
    "\n",
    "#calculate the square norm of the user and item vectors\n",
    "def get_sum_sqr_mag(u, i):\n",
    "    return sum(map (lambda x : x**2, P[u, :])) + sum(map (lambda x : x**2, Q[:, i]))"
   ]
  },
  {
   "cell_type": "code",
   "execution_count": 4,
   "id": "7e0920e2-c2ef-4426-b695-189540f4d739",
   "metadata": {},
   "outputs": [
    {
     "name": "stdout",
     "output_type": "stream",
     "text": [
      "[[2.17801784 2.10030738 1.99123714 0.74034221]\n",
      " [3.97370878 3.88386897 3.49449518 1.43415376]\n",
      " [4.96419715 4.9663041  4.06077455 1.97528999]\n",
      " [3.80633101 3.49252163 3.95435225 1.0079171 ]]\n"
     ]
    },
    {
     "data": {
      "image/png": "[encoded data removed]",
      "text/plain": [
       "<Figure size 640x480 with 1 Axes>"
      ]
     },
     "metadata": {},
     "output_type": "display_data"
    }
   ],
   "source": [
    "f = 2\n",
    "\n",
    "\n",
    "#Initialise random P and Q matrices\n",
    "r_shape = np.shape(R)\n",
    "rows = r_shape[0]\n",
    "columns = r_shape[1]\n",
    "P = np.random.rand(columns, f)\n",
    "Q = np.random.rand(f, rows)\n",
    "\n",
    "losses = []\n",
    "\n",
    "reg_param = 0.02\n",
    "learning_rate = 0.05\n",
    "epochs = 100\n",
    "for n in range(epochs):\n",
    "    for u in range(np.shape(R)[0]):\n",
    "        for i in range(np.shape(R)[1]):\n",
    "            #only update values that are observed, 0 means no rating\n",
    "            if R[u,i] == 0:\n",
    "                continue\n",
    "\n",
    "            err = get_error(u,i)\n",
    "            \n",
    "            #calculate the loss of user 0 and item 1 for graphing later\n",
    "            #we also continue to reserve this from the training set to\n",
    "            #check for overfitting\n",
    "            if u == 0 and i == 1:\n",
    "                loss = err ** 2 + reg_param * get_sum_sqr_mag(u,i)\n",
    "                losses.append(loss)\n",
    "                continue\n",
    "\n",
    "            #calculate and add on loss gradients\n",
    "            for k in range(f):\n",
    "                P[u,k] += learning_rate * (Q[k,i] * err - reg_param * P[u,k])\n",
    "                Q[k,i] += learning_rate * (P[u,k] * err - reg_param * Q[k,i])\n",
    "\n",
    "\n",
    "plt.plot(range(len(losses)), losses)\n",
    "print(np.matmul(P,Q))"
   ]
  },
  {
   "cell_type": "markdown",
   "id": "069c0954-97a2-4e84-a8a7-07ca3ea6b478",
   "metadata": {},
   "source": [
    "In this graph we can see that the loss minimissed at just above 3. This would probably improved with the addition of more data. We also find that after a relatively small amount of epochs, the model does start to overfit more and more, plateauing at around 7."
   ]
  }
 ],
 "metadata": {
  "kernelspec": {
   "display_name": "Python 3 (ipykernel)",
   "language": "python",
   "name": "python3"
  },
  "language_info": {
   "codemirror_mode": {
    "name": "ipython",
    "version": 3
   },
   "file_extension": ".py",
   "mimetype": "text/x-python",
   "name": "python",
   "nbconvert_exporter": "python",
   "pygments_lexer": "ipython3",
   "version": "3.13.7"
  }
 },
 "nbformat": 4,
 "nbformat_minor": 5
}
