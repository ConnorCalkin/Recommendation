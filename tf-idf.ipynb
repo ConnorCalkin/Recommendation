{
 "cells": [
  {
   "cell_type": "markdown",
   "id": "81c67a53-7414-439d-bd17-05dd3621e93b",
   "metadata": {},
   "source": [
    "**Tf-Idfs**\n",
    "\n",
    "In this notebook, I am going to calculate the similarity between different pieces of text.\n",
    "To do this, we first convert each document into a vector of tf-idfs. \n",
    "\n",
    "Tf-idfs calculate the importance of a word in a text. For example, if you had a text that \n",
    "has the word dinosaur a lot of times, that is probably significant to the content of the\n",
    "text. Therefore, the vector is an array of how important each word is to the text. Similar\n",
    "texts will have similar words of similar importance.\n",
    "\n",
    "This means that we can calculate the cosine similarity of these vectors to see how similar\n",
    "each of these texts are."
   ]
  },
  {
   "cell_type": "code",
   "execution_count": 108,
   "id": "e1adcb66-e2f6-47de-9302-f6c0c0ccfeb7",
   "metadata": {},
   "outputs": [],
   "source": [
    "import numpy as np\n",
    "from functools import reduce"
   ]
  },
  {
   "cell_type": "code",
   "execution_count": 109,
   "id": "53e87422-d7ab-4068-807c-40232e50077f",
   "metadata": {},
   "outputs": [],
   "source": [
    "corpus = [\n",
    "    \"the cat sat on the mat\",\n",
    "    \"the dog barked at the cat\",\n",
    "    \"the cat meowed at the dog\",\n",
    "    \"dogs and cats are friends\",\n",
    "    \"the mat was sat on by the cat\"\n",
    "]"
   ]
  },
  {
   "cell_type": "markdown",
   "id": "55cb0bdf-18c7-4a79-b394-5098f6056631",
   "metadata": {},
   "source": [
    "To calculate the tf-idf, we first need to calculate the tfs (term frequencies).\n",
    "This is just the relative frequency of each word in each document."
   ]
  },
  {
   "cell_type": "code",
   "execution_count": 110,
   "id": "35cd834d-1066-4754-98a2-c2a9e78dbdfd",
   "metadata": {},
   "outputs": [
    {
     "name": "stdout",
     "output_type": "stream",
     "text": [
      "{'the': 0.3333333333333333, 'cat': 0.16666666666666666, 'sat': 0.16666666666666666, 'on': 0.16666666666666666, 'mat': 0.16666666666666666}\n",
      "{'the': 0.3333333333333333, 'dog': 0.16666666666666666, 'barked': 0.16666666666666666, 'at': 0.16666666666666666, 'cat': 0.16666666666666666}\n",
      "{'the': 0.3333333333333333, 'cat': 0.16666666666666666, 'meowed': 0.16666666666666666, 'at': 0.16666666666666666, 'dog': 0.16666666666666666}\n",
      "{'dogs': 0.2, 'and': 0.2, 'cats': 0.2, 'are': 0.2, 'friends': 0.2}\n",
      "{'the': 0.25, 'mat': 0.125, 'was': 0.125, 'sat': 0.125, 'on': 0.125, 'by': 0.125, 'cat': 0.125}\n"
     ]
    }
   ],
   "source": [
    "tfs = []\n",
    "\n",
    "for document in corpus:\n",
    "    doc_tf = {}\n",
    "    words = document.lower().split(' ')\n",
    "    for word in words:\n",
    "        #add to the tfs array\n",
    "        if word in doc_tf:\n",
    "            doc_tf[word] += 1 / len(words)\n",
    "        else:\n",
    "            doc_tf[word] = 1 / len(words)\n",
    "    tfs.append(doc_tf)\n",
    "\n",
    "for doc_tf in tfs:\n",
    "    print(doc_tf)"
   ]
  },
  {
   "cell_type": "markdown",
   "id": "71d4f87e-5d54-4b71-835d-f748ae1fff85",
   "metadata": {},
   "source": [
    "We the calculate the idf (inverse document frequency). This describes how\n",
    "common the word is in the documents. This will be low if the word is in a lot\n",
    "of documents and high if in a few. This allows us to filter out words that are\n",
    "too common to have any significance to the true meaning of the text."
   ]
  },
  {
   "cell_type": "code",
   "execution_count": 111,
   "id": "4b2e9bce-5aea-494c-b9e4-751245a38aa2",
   "metadata": {},
   "outputs": [
    {
     "name": "stdout",
     "output_type": "stream",
     "text": [
      "{'the': 0.22314355131420976, 'cat': 0.22314355131420976, 'sat': 0.9162907318741551, 'on': 0.9162907318741551, 'mat': 0.9162907318741551, 'dog': 0.9162907318741551, 'barked': 1.6094379124341003, 'at': 0.9162907318741551, 'meowed': 1.6094379124341003, 'dogs': 1.6094379124341003, 'and': 1.6094379124341003, 'cats': 1.6094379124341003, 'are': 1.6094379124341003, 'friends': 1.6094379124341003, 'was': 1.6094379124341003, 'by': 1.6094379124341003}\n"
     ]
    }
   ],
   "source": [
    "idfs = {}\n",
    "\n",
    "for tf in tfs:\n",
    "    for word in tf.keys():\n",
    "        if word in idfs:\n",
    "            idfs[word] += 1\n",
    "        else:\n",
    "            idfs[word] = 1\n",
    "\n",
    "for idf in idfs.keys():\n",
    "    idfs[idf] = float(np.log(len(corpus) / idfs[idf]))\n",
    "\n",
    "print (idfs)"
   ]
  },
  {
   "cell_type": "markdown",
   "id": "8a8291d3-ea08-42ef-970e-198bcde3b911",
   "metadata": {},
   "source": [
    "tf-idfs are now just the tfs multiplied by the idfs"
   ]
  },
  {
   "cell_type": "code",
   "execution_count": 112,
   "id": "fb271783-bdba-45cd-aef9-8b8d48f8e3cf",
   "metadata": {},
   "outputs": [
    {
     "name": "stdout",
     "output_type": "stream",
     "text": [
      "{'the': 0.0744, 'cat': 0.0372, 'sat': 0.1527, 'on': 0.1527, 'mat': 0.1527}\n",
      "{'the': 0.0744, 'dog': 0.1527, 'barked': 0.2682, 'at': 0.1527, 'cat': 0.0372}\n",
      "{'the': 0.0744, 'cat': 0.0372, 'meowed': 0.2682, 'at': 0.1527, 'dog': 0.1527}\n",
      "{'dogs': 0.3219, 'and': 0.3219, 'cats': 0.3219, 'are': 0.3219, 'friends': 0.3219}\n",
      "{'the': 0.0558, 'mat': 0.1145, 'was': 0.2012, 'sat': 0.1145, 'on': 0.1145, 'by': 0.2012, 'cat': 0.0279}\n"
     ]
    }
   ],
   "source": [
    "tf_idfs = []\n",
    "\n",
    "for tf in tfs:\n",
    "    tf_idf = {}\n",
    "    for word in tf.keys():\n",
    "        tf_idf[word] = round(tf[word] * idfs[word],4)\n",
    "    tf_idfs.append(tf_idf)\n",
    "\n",
    "for item in tf_idfs:\n",
    "    print(item)"
   ]
  },
  {
   "cell_type": "markdown",
   "id": "bf179117-c579-46bc-b926-b13dc67a42d5",
   "metadata": {},
   "source": [
    "We convert these dictionaries into a matrix containing the tf idf vectors.\n",
    "If a word is not in a text, then the value will be 0"
   ]
  },
  {
   "cell_type": "code",
   "execution_count": 123,
   "id": "da1d8cf9-8fcc-406b-8d3e-9bc1a762e66f",
   "metadata": {},
   "outputs": [
    {
     "name": "stdout",
     "output_type": "stream",
     "text": [
      "[0.0744 0.0372 0.1527 0.1527 0.1527 0.     0.     0.     0.     0.\n",
      " 0.     0.     0.     0.     0.     0.    ]\n",
      "[0.0744 0.0372 0.     0.     0.     0.1527 0.2682 0.1527 0.     0.\n",
      " 0.     0.     0.     0.     0.     0.    ]\n",
      "[0.0744 0.0372 0.     0.     0.     0.1527 0.     0.1527 0.2682 0.\n",
      " 0.     0.     0.     0.     0.     0.    ]\n",
      "[0.     0.     0.     0.     0.     0.     0.     0.     0.     0.3219\n",
      " 0.3219 0.3219 0.3219 0.3219 0.     0.    ]\n",
      "[0.0558 0.0279 0.1145 0.1145 0.1145 0.     0.     0.     0.     0.\n",
      " 0.     0.     0.     0.     0.2012 0.2012]\n"
     ]
    }
   ],
   "source": [
    "vocab = idfs.keys()\n",
    "vectors = []\n",
    "\n",
    "for doc in tf_idfs:\n",
    "    vector = []\n",
    "    for word in vocab:\n",
    "        if word in doc:\n",
    "            vector.append(doc[word])\n",
    "        else: \n",
    "            vector.append(0)\n",
    "    vectors.append(np.array(vector))\n",
    "\n",
    "for item in vectors:\n",
    "    print(item)"
   ]
  },
  {
   "cell_type": "markdown",
   "id": "4b10c00d-e4f2-4e3b-951a-29b3a717a203",
   "metadata": {},
   "source": [
    "Now we can calculate the cosine similarites"
   ]
  },
  {
   "cell_type": "code",
   "execution_count": 132,
   "id": "47b32bf3-f4d9-45be-9376-9eead6e0fbac",
   "metadata": {},
   "outputs": [],
   "source": [
    "def cosine(A, B):\n",
    "    return float(np.dot(A, B) / (np.linalg.norm(A) * np.linalg.norm(B)))"
   ]
  },
  {
   "cell_type": "code",
   "execution_count": 136,
   "id": "069f71fc-6e04-470a-9112-6aad6a8c6110",
   "metadata": {},
   "outputs": [
    {
     "name": "stdout",
     "output_type": "stream",
     "text": [
      "[1.0, 0.0704, 0.0704, 0.0, 0.59]\n",
      "[0.0704, 1.0, 0.4268, 0.0, 0.0416]\n",
      "[0.0704, 0.4268, 1.0, 0.0, 0.0416]\n",
      "[0.0, 0.0, 0.0, 1.0, 0.0]\n",
      "[0.59, 0.0416, 0.0416, 0.0, 1.0]\n"
     ]
    }
   ],
   "source": [
    "similarities = []\n",
    "for A in vectors:\n",
    "    row = []\n",
    "    for B in vectors:\n",
    "        row.append(round(cosine(A,B), 4))\n",
    "    similarities.append(row)\n",
    "\n",
    "for similarity in similarities:\n",
    "    print(similarity)"
   ]
  }
 ],
 "metadata": {
  "kernelspec": {
   "display_name": "Python 3 (ipykernel)",
   "language": "python",
   "name": "python3"
  },
  "language_info": {
   "codemirror_mode": {
    "name": "ipython",
    "version": 3
   },
   "file_extension": ".py",
   "mimetype": "text/x-python",
   "name": "python",
   "nbconvert_exporter": "python",
   "pygments_lexer": "ipython3",
   "version": "3.13.7"
  }
 },
 "nbformat": 4,
 "nbformat_minor": 5
}
